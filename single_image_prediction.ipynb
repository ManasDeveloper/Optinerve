{
 "cells": [
  {
   "cell_type": "code",
   "execution_count": 4,
   "id": "a21e7e08",
   "metadata": {},
   "outputs": [],
   "source": [
    "from prediction import predict_single_image\n",
    "import torchvision.models as models\n",
    "from dataset import EyeDataset"
   ]
  },
  {
   "cell_type": "code",
   "execution_count": 7,
   "id": "da6c373c",
   "metadata": {},
   "outputs": [],
   "source": [
    "img_dir = \"dataset/right_eye_dataset\"\n",
    "annotations = \"annotations.csv\""
   ]
  },
  {
   "cell_type": "code",
   "execution_count": 18,
   "id": "88beb4bc",
   "metadata": {},
   "outputs": [],
   "source": [
    "import torch.nn as nn\n",
    "import torch\n",
    "device = 'cuda'"
   ]
  },
  {
   "cell_type": "code",
   "execution_count": 16,
   "id": "51645c03",
   "metadata": {},
   "outputs": [],
   "source": [
    "dataset = EyeDataset(img_dir=img_dir, annotations=annotations, transform=None)"
   ]
  },
  {
   "cell_type": "code",
   "execution_count": 19,
   "id": "5d67b780",
   "metadata": {},
   "outputs": [
    {
     "name": "stderr",
     "output_type": "stream",
     "text": [
      "d:\\unsolth_env\\deep_learning_env\\lib\\site-packages\\torchvision\\models\\_utils.py:208: UserWarning: The parameter 'pretrained' is deprecated since 0.13 and may be removed in the future, please use 'weights' instead.\n",
      "  warnings.warn(\n",
      "d:\\unsolth_env\\deep_learning_env\\lib\\site-packages\\torchvision\\models\\_utils.py:223: UserWarning: Arguments other than a weight enum or `None` for 'weights' are deprecated since 0.13 and may be removed in the future. The current behavior is equivalent to passing `weights=None`.\n",
      "  warnings.warn(msg)\n"
     ]
    },
    {
     "ename": "NameError",
     "evalue": "name 'model_path' is not defined",
     "output_type": "error",
     "traceback": [
      "\u001b[1;31m---------------------------------------------------------------------------\u001b[0m",
      "\u001b[1;31mNameError\u001b[0m                                 Traceback (most recent call last)",
      "Cell \u001b[1;32mIn[19], line 12\u001b[0m\n\u001b[0;32m      9\u001b[0m model\u001b[38;5;241m.\u001b[39mto(device)\n\u001b[0;32m     11\u001b[0m \u001b[38;5;66;03m# Load saved weights\u001b[39;00m\n\u001b[1;32m---> 12\u001b[0m model\u001b[38;5;241m.\u001b[39mload_state_dict(torch\u001b[38;5;241m.\u001b[39mload(\u001b[43mmodel_path\u001b[49m, map_location\u001b[38;5;241m=\u001b[39mdevice))\n\u001b[0;32m     13\u001b[0m model \u001b[38;5;241m=\u001b[39m model\u001b[38;5;241m.\u001b[39mto(device)\n",
      "\u001b[1;31mNameError\u001b[0m: name 'model_path' is not defined"
     ]
    }
   ],
   "source": [
    "model = models.resnet50(pretrained=False)\n",
    "\n",
    "# Replace final classifier\n",
    "# replace the final classifier \n",
    "num_classes = len(dataset.label_encoder.classes_)\n",
    "in_features = model.fc.in_features\n",
    "model.fc = nn.Linear(in_features,num_classes)\n",
    "\n",
    "model.to(device)\n",
    "\n",
    "# Load saved weights\n",
    "model.load_state_dict(torch.load(model_path, map_location=device))\n",
    "model = model.to(device)"
   ]
  },
  {
   "cell_type": "code",
   "execution_count": null,
   "id": "bbea3ef6",
   "metadata": {},
   "outputs": [],
   "source": []
  }
 ],
 "metadata": {
  "kernelspec": {
   "display_name": "deep_learning_env",
   "language": "python",
   "name": "python3"
  },
  "language_info": {
   "codemirror_mode": {
    "name": "ipython",
    "version": 3
   },
   "file_extension": ".py",
   "mimetype": "text/x-python",
   "name": "python",
   "nbconvert_exporter": "python",
   "pygments_lexer": "ipython3",
   "version": "3.9.23"
  }
 },
 "nbformat": 4,
 "nbformat_minor": 5
}
